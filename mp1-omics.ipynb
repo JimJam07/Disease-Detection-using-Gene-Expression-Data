{
 "cells": [
  {
   "cell_type": "markdown",
   "id": "2d42495e-ab92-4e2e-bf50-a785e9b55b8c",
   "metadata": {},
   "source": [
    "# Binary Classification with SciKitLearn\n",
    "--------------------------\n",
    "### Contents:\n",
    "- **Background**\n",
    "- **Data importing/preprocessing - [10 points]**\n",
    "- **Feature selection and dimensionality reduction - [15 points]**\n",
    "- **SVM classifier - [20 points]**\n",
    "- **Logistic regression - [30 points]**\n",
    "- **Random forest - [25 points]**\n",
    "- **1 minute feedback - [Optional]**\n",
    "\n",
    "--------------------------"
   ]
  },
  {
   "cell_type": "markdown",
   "id": "cbaf86a8-9c11-4f07-8048-58b890db34a3",
   "metadata": {},
   "source": [
    "### Section 1: Background \n",
    "In this assignment, your task is to build a binary classifier that can distinguish between two brain disorders - Alzheimer's (AD) and Progressive Supranuclear Palsy (PSP). We will be using gene expression data sourced by RNA sequencing (RNA-seq) the brain tissue of  participants. The study can be found at [<sup>1</sup>](#fn1).\n",
    "\n",
    "Using RNA sequencing we can quantitatively measure which genes are activated and their expression levels. By comparing the gene expression levels of normal and mutated cells, we can identify differences that might reveal which genes are causing these mutations. These gene expression patterns can also serve as indicators to detect and differentiate similar diseases such as AD and PSP.\n",
    "\n",
    "\n",
    "<span id=\"fn1\"> <sup>1</sup> https://www.nature.com/articles/sdata201689</span>\n",
    "\n",
    "--------------------------\n"
   ]
  },
  {
   "cell_type": "markdown",
   "id": "a7b81483-4bac-45ad-904c-514b80965896",
   "metadata": {},
   "source": [
    "\n",
    "\n",
    "### Section 2: Data importing/preprocessing -  [10 points]\n",
    "\n",
    "- Load the gene expression dataset and the labels into pandas dataframe. \n",
    "- Retain only 'Diagnosis' and 'ID' columns in the labels dataframe.\n",
    "- Combine gene_exp and labels dataframes based on 'ID'. \n",
    "- Remove samples containing labels other than Alzheimer's ('AD') or Progressive supranuclear palsy ('PSP').\n",
    "- Encode textual labels to numbers. For example 'AD' to 0 and 'PSP' to 1.\n",
    "\n",
    "--------------------------\n"
   ]
  },
  {
   "cell_type": "code",
   "execution_count": 1,
   "id": "870a0220-08e6-467f-ab00-90dff1c36d20",
   "metadata": {},
   "outputs": [],
   "source": [
    "import pandas as pd\n",
    "import numpy as np\n",
    "\n",
    "# do not modify this\n",
    "np.random.seed(89802024)\n"
   ]
  },
  {
   "cell_type": "code",
   "execution_count": 2,
   "id": "149be304-4874-4965-afb8-da43f4afd8af",
   "metadata": {},
   "outputs": [
    {
     "data": {
      "text/html": [
       "<div>\n",
       "<style scoped>\n",
       "    .dataframe tbody tr th:only-of-type {\n",
       "        vertical-align: middle;\n",
       "    }\n",
       "\n",
       "    .dataframe tbody tr th {\n",
       "        vertical-align: top;\n",
       "    }\n",
       "\n",
       "    .dataframe thead th {\n",
       "        text-align: right;\n",
       "    }\n",
       "</style>\n",
       "<table border=\"1\" class=\"dataframe\">\n",
       "  <thead>\n",
       "    <tr style=\"text-align: right;\">\n",
       "      <th></th>\n",
       "      <th>ID</th>\n",
       "      <th>ENSG00000223972</th>\n",
       "      <th>ENSG00000227232</th>\n",
       "      <th>ENSG00000243485</th>\n",
       "      <th>ENSG00000268020</th>\n",
       "      <th>ENSG00000240361</th>\n",
       "      <th>ENSG00000186092</th>\n",
       "      <th>ENSG00000238009</th>\n",
       "      <th>ENSG00000239945</th>\n",
       "      <th>ENSG00000233750</th>\n",
       "      <th>...</th>\n",
       "      <th>ENSG00000198886</th>\n",
       "      <th>ENSG00000210176</th>\n",
       "      <th>ENSG00000210184</th>\n",
       "      <th>ENSG00000210191</th>\n",
       "      <th>ENSG00000198786</th>\n",
       "      <th>ENSG00000198695</th>\n",
       "      <th>ENSG00000210194</th>\n",
       "      <th>ENSG00000198727</th>\n",
       "      <th>ENSG00000210195</th>\n",
       "      <th>ENSG00000210196</th>\n",
       "    </tr>\n",
       "  </thead>\n",
       "  <tbody>\n",
       "    <tr>\n",
       "      <th>0</th>\n",
       "      <td>11344_TCX</td>\n",
       "      <td>-2.168275</td>\n",
       "      <td>2.867350</td>\n",
       "      <td>-2.235659</td>\n",
       "      <td>-2.878004</td>\n",
       "      <td>-2.878004</td>\n",
       "      <td>-2.921482</td>\n",
       "      <td>0.972981</td>\n",
       "      <td>2.589508</td>\n",
       "      <td>2.049147</td>\n",
       "      <td>...</td>\n",
       "      <td>15.177233</td>\n",
       "      <td>8.620554</td>\n",
       "      <td>8.415900</td>\n",
       "      <td>9.195871</td>\n",
       "      <td>13.407342</td>\n",
       "      <td>13.089514</td>\n",
       "      <td>10.035159</td>\n",
       "      <td>14.350876</td>\n",
       "      <td>8.401389</td>\n",
       "      <td>9.124693</td>\n",
       "    </tr>\n",
       "    <tr>\n",
       "      <th>1</th>\n",
       "      <td>11316_TCX</td>\n",
       "      <td>-2.667791</td>\n",
       "      <td>2.919402</td>\n",
       "      <td>-3.118351</td>\n",
       "      <td>-2.963895</td>\n",
       "      <td>-2.963895</td>\n",
       "      <td>-2.963895</td>\n",
       "      <td>1.602722</td>\n",
       "      <td>3.196802</td>\n",
       "      <td>2.830484</td>\n",
       "      <td>...</td>\n",
       "      <td>15.177233</td>\n",
       "      <td>11.611706</td>\n",
       "      <td>11.478740</td>\n",
       "      <td>12.284014</td>\n",
       "      <td>13.527804</td>\n",
       "      <td>13.350245</td>\n",
       "      <td>12.613126</td>\n",
       "      <td>14.240878</td>\n",
       "      <td>10.760811</td>\n",
       "      <td>12.021301</td>\n",
       "    </tr>\n",
       "    <tr>\n",
       "      <th>2</th>\n",
       "      <td>11431_TCX</td>\n",
       "      <td>-3.391138</td>\n",
       "      <td>3.153625</td>\n",
       "      <td>-2.106056</td>\n",
       "      <td>-4.424961</td>\n",
       "      <td>-4.418319</td>\n",
       "      <td>-4.540941</td>\n",
       "      <td>1.453881</td>\n",
       "      <td>2.986039</td>\n",
       "      <td>2.836847</td>\n",
       "      <td>...</td>\n",
       "      <td>15.177233</td>\n",
       "      <td>10.502635</td>\n",
       "      <td>10.133659</td>\n",
       "      <td>11.504803</td>\n",
       "      <td>13.407342</td>\n",
       "      <td>13.138792</td>\n",
       "      <td>11.990068</td>\n",
       "      <td>14.472362</td>\n",
       "      <td>9.848741</td>\n",
       "      <td>10.852588</td>\n",
       "    </tr>\n",
       "    <tr>\n",
       "      <th>3</th>\n",
       "      <td>11341_TCX</td>\n",
       "      <td>-2.801722</td>\n",
       "      <td>3.269001</td>\n",
       "      <td>-1.133302</td>\n",
       "      <td>-3.118351</td>\n",
       "      <td>-3.118351</td>\n",
       "      <td>-3.175145</td>\n",
       "      <td>2.442415</td>\n",
       "      <td>3.961310</td>\n",
       "      <td>2.803290</td>\n",
       "      <td>...</td>\n",
       "      <td>14.764855</td>\n",
       "      <td>9.920577</td>\n",
       "      <td>10.133659</td>\n",
       "      <td>11.255892</td>\n",
       "      <td>13.466460</td>\n",
       "      <td>13.350245</td>\n",
       "      <td>12.182661</td>\n",
       "      <td>14.240878</td>\n",
       "      <td>9.637298</td>\n",
       "      <td>9.904126</td>\n",
       "    </tr>\n",
       "    <tr>\n",
       "      <th>4</th>\n",
       "      <td>11289_TCX</td>\n",
       "      <td>-0.162419</td>\n",
       "      <td>5.284041</td>\n",
       "      <td>0.250976</td>\n",
       "      <td>-2.218957</td>\n",
       "      <td>-2.218957</td>\n",
       "      <td>-2.328570</td>\n",
       "      <td>2.065006</td>\n",
       "      <td>3.218117</td>\n",
       "      <td>2.857921</td>\n",
       "      <td>...</td>\n",
       "      <td>14.764855</td>\n",
       "      <td>11.780232</td>\n",
       "      <td>11.209200</td>\n",
       "      <td>12.021301</td>\n",
       "      <td>13.350245</td>\n",
       "      <td>13.189390</td>\n",
       "      <td>12.353690</td>\n",
       "      <td>14.350876</td>\n",
       "      <td>11.722941</td>\n",
       "      <td>11.959163</td>\n",
       "    </tr>\n",
       "  </tbody>\n",
       "</table>\n",
       "<p>5 rows × 55757 columns</p>\n",
       "</div>"
      ],
      "text/plain": [
       "          ID  ENSG00000223972  ENSG00000227232  ENSG00000243485  \\\n",
       "0  11344_TCX        -2.168275         2.867350        -2.235659   \n",
       "1  11316_TCX        -2.667791         2.919402        -3.118351   \n",
       "2  11431_TCX        -3.391138         3.153625        -2.106056   \n",
       "3  11341_TCX        -2.801722         3.269001        -1.133302   \n",
       "4  11289_TCX        -0.162419         5.284041         0.250976   \n",
       "\n",
       "   ENSG00000268020  ENSG00000240361  ENSG00000186092  ENSG00000238009  \\\n",
       "0        -2.878004        -2.878004        -2.921482         0.972981   \n",
       "1        -2.963895        -2.963895        -2.963895         1.602722   \n",
       "2        -4.424961        -4.418319        -4.540941         1.453881   \n",
       "3        -3.118351        -3.118351        -3.175145         2.442415   \n",
       "4        -2.218957        -2.218957        -2.328570         2.065006   \n",
       "\n",
       "   ENSG00000239945  ENSG00000233750  ...  ENSG00000198886  ENSG00000210176  \\\n",
       "0         2.589508         2.049147  ...        15.177233         8.620554   \n",
       "1         3.196802         2.830484  ...        15.177233        11.611706   \n",
       "2         2.986039         2.836847  ...        15.177233        10.502635   \n",
       "3         3.961310         2.803290  ...        14.764855         9.920577   \n",
       "4         3.218117         2.857921  ...        14.764855        11.780232   \n",
       "\n",
       "   ENSG00000210184  ENSG00000210191  ENSG00000198786  ENSG00000198695  \\\n",
       "0         8.415900         9.195871        13.407342        13.089514   \n",
       "1        11.478740        12.284014        13.527804        13.350245   \n",
       "2        10.133659        11.504803        13.407342        13.138792   \n",
       "3        10.133659        11.255892        13.466460        13.350245   \n",
       "4        11.209200        12.021301        13.350245        13.189390   \n",
       "\n",
       "   ENSG00000210194  ENSG00000198727  ENSG00000210195  ENSG00000210196  \n",
       "0        10.035159        14.350876         8.401389         9.124693  \n",
       "1        12.613126        14.240878        10.760811        12.021301  \n",
       "2        11.990068        14.472362         9.848741        10.852588  \n",
       "3        12.182661        14.240878         9.637298         9.904126  \n",
       "4        12.353690        14.350876        11.722941        11.959163  \n",
       "\n",
       "[5 rows x 55757 columns]"
      ]
     },
     "execution_count": 2,
     "metadata": {},
     "output_type": "execute_result"
    }
   ],
   "source": [
    "# Read the gene expression dataset (normalized_gene_expression.txt) into a dataframe\n",
    "\n",
    "gene_exp = pd.read_csv('normalized_gene_expression.txt', delimiter = \"\\t\")\n",
    "gene_exp.head()"
   ]
  },
  {
   "cell_type": "code",
   "execution_count": 4,
   "id": "5002922b-0af6-468a-866f-5ab292b5996f",
   "metadata": {},
   "outputs": [
    {
     "data": {
      "text/html": [
       "<div>\n",
       "<style scoped>\n",
       "    .dataframe tbody tr th:only-of-type {\n",
       "        vertical-align: middle;\n",
       "    }\n",
       "\n",
       "    .dataframe tbody tr th {\n",
       "        vertical-align: top;\n",
       "    }\n",
       "\n",
       "    .dataframe thead th {\n",
       "        text-align: right;\n",
       "    }\n",
       "</style>\n",
       "<table border=\"1\" class=\"dataframe\">\n",
       "  <thead>\n",
       "    <tr style=\"text-align: right;\">\n",
       "      <th></th>\n",
       "      <th>ID</th>\n",
       "      <th>Diagnosis</th>\n",
       "      <th>RIN</th>\n",
       "      <th>3primeBias</th>\n",
       "      <th>Sex</th>\n",
       "      <th>AgeAtDeath</th>\n",
       "    </tr>\n",
       "  </thead>\n",
       "  <tbody>\n",
       "    <tr>\n",
       "      <th>0</th>\n",
       "      <td>1005_TCX</td>\n",
       "      <td>AD</td>\n",
       "      <td>8.6</td>\n",
       "      <td>1.333306</td>\n",
       "      <td>0</td>\n",
       "      <td>90_or_above</td>\n",
       "    </tr>\n",
       "    <tr>\n",
       "      <th>1</th>\n",
       "      <td>1010_TCX</td>\n",
       "      <td>AD</td>\n",
       "      <td>8.3</td>\n",
       "      <td>1.593823</td>\n",
       "      <td>1</td>\n",
       "      <td>63</td>\n",
       "    </tr>\n",
       "    <tr>\n",
       "      <th>2</th>\n",
       "      <td>1015_TCX</td>\n",
       "      <td>AD</td>\n",
       "      <td>8.7</td>\n",
       "      <td>1.671713</td>\n",
       "      <td>1</td>\n",
       "      <td>77</td>\n",
       "    </tr>\n",
       "    <tr>\n",
       "      <th>3</th>\n",
       "      <td>1019_TCX</td>\n",
       "      <td>AD</td>\n",
       "      <td>7.8</td>\n",
       "      <td>1.402270</td>\n",
       "      <td>0</td>\n",
       "      <td>86</td>\n",
       "    </tr>\n",
       "    <tr>\n",
       "      <th>4</th>\n",
       "      <td>1029_TCX</td>\n",
       "      <td>AD</td>\n",
       "      <td>9.7</td>\n",
       "      <td>1.599649</td>\n",
       "      <td>0</td>\n",
       "      <td>69</td>\n",
       "    </tr>\n",
       "  </tbody>\n",
       "</table>\n",
       "</div>"
      ],
      "text/plain": [
       "         ID Diagnosis  RIN  3primeBias  Sex   AgeAtDeath\n",
       "0  1005_TCX        AD  8.6    1.333306    0  90_or_above\n",
       "1  1010_TCX        AD  8.3    1.593823    1           63\n",
       "2  1015_TCX        AD  8.7    1.671713    1           77\n",
       "3  1019_TCX        AD  7.8    1.402270    0           86\n",
       "4  1029_TCX        AD  9.7    1.599649    0           69"
      ]
     },
     "execution_count": 4,
     "metadata": {},
     "output_type": "execute_result"
    }
   ],
   "source": [
    "# Read the labels for the dataset from labels.csv file\n",
    "\n",
    "labels = pd.read_csv(\"./labels.csv\")\n",
    "labels.head()"
   ]
  },
  {
   "cell_type": "code",
   "execution_count": 5,
   "id": "0d535de7-08fd-4f8b-89f6-6d20f65ce0e7",
   "metadata": {},
   "outputs": [
    {
     "data": {
      "text/html": [
       "<div>\n",
       "<style scoped>\n",
       "    .dataframe tbody tr th:only-of-type {\n",
       "        vertical-align: middle;\n",
       "    }\n",
       "\n",
       "    .dataframe tbody tr th {\n",
       "        vertical-align: top;\n",
       "    }\n",
       "\n",
       "    .dataframe thead th {\n",
       "        text-align: right;\n",
       "    }\n",
       "</style>\n",
       "<table border=\"1\" class=\"dataframe\">\n",
       "  <thead>\n",
       "    <tr style=\"text-align: right;\">\n",
       "      <th></th>\n",
       "      <th>ID</th>\n",
       "      <th>Diagnosis</th>\n",
       "    </tr>\n",
       "  </thead>\n",
       "  <tbody>\n",
       "    <tr>\n",
       "      <th>0</th>\n",
       "      <td>1005_TCX</td>\n",
       "      <td>AD</td>\n",
       "    </tr>\n",
       "    <tr>\n",
       "      <th>1</th>\n",
       "      <td>1010_TCX</td>\n",
       "      <td>AD</td>\n",
       "    </tr>\n",
       "    <tr>\n",
       "      <th>2</th>\n",
       "      <td>1015_TCX</td>\n",
       "      <td>AD</td>\n",
       "    </tr>\n",
       "    <tr>\n",
       "      <th>3</th>\n",
       "      <td>1019_TCX</td>\n",
       "      <td>AD</td>\n",
       "    </tr>\n",
       "    <tr>\n",
       "      <th>4</th>\n",
       "      <td>1029_TCX</td>\n",
       "      <td>AD</td>\n",
       "    </tr>\n",
       "  </tbody>\n",
       "</table>\n",
       "</div>"
      ],
      "text/plain": [
       "         ID Diagnosis\n",
       "0  1005_TCX        AD\n",
       "1  1010_TCX        AD\n",
       "2  1015_TCX        AD\n",
       "3  1019_TCX        AD\n",
       "4  1029_TCX        AD"
      ]
     },
     "execution_count": 5,
     "metadata": {},
     "output_type": "execute_result"
    }
   ],
   "source": [
    "# Drop unnecessary columns in labels dataframe\n",
    "\n",
    "labels = labels[['ID','Diagnosis']]\n",
    "labels.head()"
   ]
  },
  {
   "cell_type": "code",
   "execution_count": 6,
   "id": "61d1193e-5c87-41d6-914a-83048b9c779c",
   "metadata": {},
   "outputs": [
    {
     "data": {
      "text/plain": [
       "Diagnosis\n",
       "PSP                 82\n",
       "AD                  80\n",
       "Control             76\n",
       "Pathologic Aging    30\n",
       "Name: count, dtype: int64"
      ]
     },
     "execution_count": 6,
     "metadata": {},
     "output_type": "execute_result"
    }
   ],
   "source": [
    "# Merge both dataframes based on column 'ID' \n",
    "df = labels.join(gene_exp.set_index('ID'), on='ID')\n",
    "df['Diagnosis'].value_counts()"
   ]
  },
  {
   "cell_type": "code",
   "execution_count": 7,
   "id": "6b648931-388c-44ec-b0c3-be279ea69e80",
   "metadata": {},
   "outputs": [
    {
     "data": {
      "text/plain": [
       "Diagnosis\n",
       "PSP    82\n",
       "AD     80\n",
       "Name: count, dtype: int64"
      ]
     },
     "execution_count": 7,
     "metadata": {},
     "output_type": "execute_result"
    }
   ],
   "source": [
    "# Retain only samples having labels of 'AD' or 'PSP'\n",
    "\n",
    "df = df[(df['Diagnosis'] == 'AD') | (df['Diagnosis'] == 'PSP')]\n",
    "df['Diagnosis'].value_counts()"
   ]
  },
  {
   "cell_type": "code",
   "execution_count": 8,
   "id": "157c3fcc-ffb1-4e4f-aba8-c797853779ba",
   "metadata": {},
   "outputs": [],
   "source": [
    "# Separate the merged dataframe into features and labels. Remove 'ID' column\n",
    "\n",
    "X =  df.drop(columns=['Diagnosis','ID'])\n",
    "y = np.array(df['Diagnosis'])\n"
   ]
  },
  {
   "cell_type": "code",
   "execution_count": 9,
   "id": "583a3376-204c-4f56-af26-68694875554a",
   "metadata": {},
   "outputs": [],
   "source": [
    "# Encode textual labels in 'y' to numbers\n",
    "\n",
    "from sklearn.preprocessing import LabelEncoder\n",
    "\n",
    "le = LabelEncoder()\n",
    "le.fit(np.unique(y))\n",
    "y = le.transform(y)\n",
    "assert(np.all((y == 0) | (y == 1)))"
   ]
  },
  {
   "cell_type": "markdown",
   "id": "4e7f1144-ee75-4468-a74e-798cdc145d4f",
   "metadata": {},
   "source": [
    "--------------------------\n",
    "### Section 3 - Feature selection and dimensionality reduction -  [15 points]\n",
    "\n",
    "On analyzing the shape of the gene expression dataframe we can see that the number of features (p) is much larger than the number of observations (N). This is known as the p >> N problem, and is commonly seen in genomics and healthcare datasets.\n",
    "To mitigate this problem, we will employ feature selection and dimensionality reduction techniques so that we have a more compact feature space. \n",
    "\n",
    "\n",
    "- Randomly select 100 features.\n",
    "- Select top 1%  most variant features.\n",
    "- Perform PCA and select principal components that account for 95% of the total explained variance.\n",
    "    - Plot the first two principal components of X_projected, coloring data points by their labels. Explain if the data is linearly separable in this plot.\n",
    "\n",
    "  \n",
    "--------------------------\n"
   ]
  },
  {
   "cell_type": "code",
   "execution_count": 10,
   "id": "fef64079-1149-471e-9b9a-49460b5acbef",
   "metadata": {},
   "outputs": [],
   "source": [
    "# Randomly select 100 features\n",
    "\n",
    "X_rand = X.sample(n=100, axis='columns') \n",
    "\n",
    "assert X_rand.shape == (162, 100)"
   ]
  },
  {
   "cell_type": "code",
   "execution_count": 11,
   "id": "60bc91b2",
   "metadata": {},
   "outputs": [],
   "source": [
    "top_1 = int(np.ceil(X.shape[1]/100))\n",
    "\n",
    "new_df = pd.DataFrame(X.var(), columns=[\"features\"])\n",
    "new_df = new_df.sort_values(by=[\"features\"], ascending=False)\n",
    "c = new_df.head(top_1)\n",
    "idx_arr = c.index\n",
    "idx_arr = np.copy(idx_arr)\n"
   ]
  },
  {
   "cell_type": "code",
   "execution_count": 12,
   "id": "7de16b56-3f6e-4834-b6ab-269571d36ffc",
   "metadata": {},
   "outputs": [
    {
     "data": {
      "text/plain": [
       "(162, 558)"
      ]
     },
     "execution_count": 12,
     "metadata": {},
     "output_type": "execute_result"
    }
   ],
   "source": [
    "# Select top 1% the features with the most variance\n",
    "\n",
    "\n",
    "X_var = X[idx_arr]\n",
    "\n",
    "X_var.shape"
   ]
  },
  {
   "cell_type": "code",
   "execution_count": 13,
   "id": "c7d2c821-0277-426b-ae8e-fb8884f1dd8f",
   "metadata": {},
   "outputs": [
    {
     "data": {
      "text/plain": [
       "(162, 140)"
      ]
     },
     "execution_count": 13,
     "metadata": {},
     "output_type": "execute_result"
    }
   ],
   "source": [
    "# Use full PCA and select only components contributing to 95% total variance\n",
    "\n",
    "from sklearn.decomposition import PCA\n",
    "\n",
    "pca = PCA()\n",
    "X_pca = pca.fit_transform(X)\n",
    "cumulative_variance = np.cumsum(pca.explained_variance_ratio_)\n",
    "\n",
    "num_components = np.argmax(cumulative_variance >= 0.95) + 1\n",
    "\n",
    "final_pca = PCA(n_components=num_components)\n",
    "\n",
    "X_projected = final_pca.fit_transform(X)\n",
    "\n",
    "\n",
    "X_projected.shape"
   ]
  },
  {
   "cell_type": "code",
   "execution_count": 13,
   "id": "095cde99-35d7-4a14-ac5e-824571c5b883",
   "metadata": {},
   "outputs": [
    {
     "data": {
      "image/png": "[encoded data removed]",
      "text/plain": [
       "<Figure size 640x480 with 1 Axes>"
      ]
     },
     "metadata": {},
     "output_type": "display_data"
    }
   ],
   "source": [
    "# Scatter plot of first two principal components \n",
    "\n",
    "import matplotlib.pyplot as plt \n",
    "\n",
    "# plt.scatter(X_projected[2],X_projected[3]) \n",
    "plt.scatter(X_projected[y == 0, 0], X_projected[y == 0, 1], label='AD')\n",
    "plt.scatter(X_projected[y == 1, 0], X_projected[y == 1, 1], label='PSP')\n",
    "plt.title('PCA: First Two Principal Components') \n",
    "plt.xlabel('PC 1') \n",
    "plt.ylabel('PC 2') \n",
    "plt.legend()\n",
    "plt.legend() \n",
    "plt.show()"
   ]
  },
  {
   "cell_type": "markdown",
   "id": "1adefb2e-8582-446b-b1b1-a21b62f28884",
   "metadata": {},
   "source": [
    "### Section 4: SVM classifier  - [20 points]\n",
    " \n",
    "\n",
    "- Complete the 'evaluate_classifier' function to implement a SVM classifier. Use GridSearchCV to search for the optimal kernel and parameter C (C determines the margin width).\n",
    "- Use 10-fold StratifiedKFold for cross-validation (CV) when searching. Set scoring to 'accuracy'. StratifiedKFold will divide our dataset into 10 sets, model will be trained on 9 sets and tested on 1 set. This results in 10 models, each fitted on different combinations of sets. \n",
    "- Print the best parameters and score found for each of X_rand, X_var, and X_projected after cross validation.\n",
    "\n",
    "NOTE: We will not be doing a train-val-test split of the dataset in this assignment because of the small sample size. We will do a cross-validated train-test split for evaluations.\n",
    "\n",
    "\n",
    "--------------------------\n"
   ]
  },
  {
   "cell_type": "code",
   "execution_count": 14,
   "id": "8645310c-71b7-4fb4-8ea9-e9a9ce7175cf",
   "metadata": {},
   "outputs": [
    {
     "name": "stdout",
     "output_type": "stream",
     "text": [
      "the best parameters: {'C': 0.1, 'kernel': 'linear'}\n",
      "the best score: 0.7595588235294117\n",
      "the best parameters: {'C': 10, 'kernel': 'rbf'}\n",
      "the best score: 0.7955882352941177\n",
      "the best parameters: {'C': 1, 'kernel': 'sigmoid'}\n",
      "the best score: 0.8143382352941178\n"
     ]
    },
    {
     "data": {
      "text/html": [
       "<style>#sk-container-id-1 {color: black;}#sk-container-id-1 pre{padding: 0;}#sk-container-id-1 div.sk-toggleable {background-color: white;}#sk-container-id-1 label.sk-toggleable__label {cursor: pointer;display: block;width: 100%;margin-bottom: 0;padding: 0.3em;box-sizing: border-box;text-align: center;}#sk-container-id-1 label.sk-toggleable__label-arrow:before {content: \"▸\";float: left;margin-right: 0.25em;color: #696969;}#sk-container-id-1 label.sk-toggleable__label-arrow:hover:before {color: black;}#sk-container-id-1 div.sk-estimator:hover label.sk-toggleable__label-arrow:before {color: black;}#sk-container-id-1 div.sk-toggleable__content {max-height: 0;max-width: 0;overflow: hidden;text-align: left;background-color: #f0f8ff;}#sk-container-id-1 div.sk-toggleable__content pre {margin: 0.2em;color: black;border-radius: 0.25em;background-color: #f0f8ff;}#sk-container-id-1 input.sk-toggleable__control:checked~div.sk-toggleable__content {max-height: 200px;max-width: 100%;overflow: auto;}#sk-container-id-1 input.sk-toggleable__control:checked~label.sk-toggleable__label-arrow:before {content: \"▾\";}#sk-container-id-1 div.sk-estimator input.sk-toggleable__control:checked~label.sk-toggleable__label {background-color: #d4ebff;}#sk-container-id-1 div.sk-label input.sk-toggleable__control:checked~label.sk-toggleable__label {background-color: #d4ebff;}#sk-container-id-1 input.sk-hidden--visually {border: 0;clip: rect(1px 1px 1px 1px);clip: rect(1px, 1px, 1px, 1px);height: 1px;margin: -1px;overflow: hidden;padding: 0;position: absolute;width: 1px;}#sk-container-id-1 div.sk-estimator {font-family: monospace;background-color: #f0f8ff;border: 1px dotted black;border-radius: 0.25em;box-sizing: border-box;margin-bottom: 0.5em;}#sk-container-id-1 div.sk-estimator:hover {background-color: #d4ebff;}#sk-container-id-1 div.sk-parallel-item::after {content: \"\";width: 100%;border-bottom: 1px solid gray;flex-grow: 1;}#sk-container-id-1 div.sk-label:hover label.sk-toggleable__label {background-color: #d4ebff;}#sk-container-id-1 div.sk-serial::before {content: \"\";position: absolute;border-left: 1px solid gray;box-sizing: border-box;top: 0;bottom: 0;left: 50%;z-index: 0;}#sk-container-id-1 div.sk-serial {display: flex;flex-direction: column;align-items: center;background-color: white;padding-right: 0.2em;padding-left: 0.2em;position: relative;}#sk-container-id-1 div.sk-item {position: relative;z-index: 1;}#sk-container-id-1 div.sk-parallel {display: flex;align-items: stretch;justify-content: center;background-color: white;position: relative;}#sk-container-id-1 div.sk-item::before, #sk-container-id-1 div.sk-parallel-item::before {content: \"\";position: absolute;border-left: 1px solid gray;box-sizing: border-box;top: 0;bottom: 0;left: 50%;z-index: -1;}#sk-container-id-1 div.sk-parallel-item {display: flex;flex-direction: column;z-index: 1;position: relative;background-color: white;}#sk-container-id-1 div.sk-parallel-item:first-child::after {align-self: flex-end;width: 50%;}#sk-container-id-1 div.sk-parallel-item:last-child::after {align-self: flex-start;width: 50%;}#sk-container-id-1 div.sk-parallel-item:only-child::after {width: 0;}#sk-container-id-1 div.sk-dashed-wrapped {border: 1px dashed gray;margin: 0 0.4em 0.5em 0.4em;box-sizing: border-box;padding-bottom: 0.4em;background-color: white;}#sk-container-id-1 div.sk-label label {font-family: monospace;font-weight: bold;display: inline-block;line-height: 1.2em;}#sk-container-id-1 div.sk-label-container {text-align: center;}#sk-container-id-1 div.sk-container {/* jupyter's `normalize.less` sets `[hidden] { display: none; }` but bootstrap.min.css set `[hidden] { display: none !important; }` so we also need the `!important` here to be able to override the default hidden behavior on the sphinx rendered scikit-learn.org. See: https://github.com/scikit-learn/scikit-learn/issues/21755 */display: inline-block !important;position: relative;}#sk-container-id-1 div.sk-text-repr-fallback {display: none;}</style><div id=\"sk-container-id-1\" class=\"sk-top-container\"><div class=\"sk-text-repr-fallback\"><pre>GridSearchCV(cv=StratifiedKFold(n_splits=10, random_state=None, shuffle=True),\n",
       "             estimator=SVC(),\n",
       "             param_grid={&#x27;C&#x27;: [0.01, 0.1, 1, 10],\n",
       "                         &#x27;kernel&#x27;: [&#x27;linear&#x27;, &#x27;poly&#x27;, &#x27;rbf&#x27;, &#x27;sigmoid&#x27;]},\n",
       "             scoring=&#x27;accuracy&#x27;)</pre><b>In a Jupyter environment, please rerun this cell to show the HTML representation or trust the notebook. <br />On GitHub, the HTML representation is unable to render, please try loading this page with nbviewer.org.</b></div><div class=\"sk-container\" hidden><div class=\"sk-item sk-dashed-wrapped\"><div class=\"sk-label-container\"><div class=\"sk-label sk-toggleable\"><input class=\"sk-toggleable__control sk-hidden--visually\" id=\"sk-estimator-id-1\" type=\"checkbox\" ><label for=\"sk-estimator-id-1\" class=\"sk-toggleable__label sk-toggleable__label-arrow\">GridSearchCV</label><div class=\"sk-toggleable__content\"><pre>GridSearchCV(cv=StratifiedKFold(n_splits=10, random_state=None, shuffle=True),\n",
       "             estimator=SVC(),\n",
       "             param_grid={&#x27;C&#x27;: [0.01, 0.1, 1, 10],\n",
       "                         &#x27;kernel&#x27;: [&#x27;linear&#x27;, &#x27;poly&#x27;, &#x27;rbf&#x27;, &#x27;sigmoid&#x27;]},\n",
       "             scoring=&#x27;accuracy&#x27;)</pre></div></div></div><div class=\"sk-parallel\"><div class=\"sk-parallel-item\"><div class=\"sk-item\"><div class=\"sk-label-container\"><div class=\"sk-label sk-toggleable\"><input class=\"sk-toggleable__control sk-hidden--visually\" id=\"sk-estimator-id-2\" type=\"checkbox\" ><label for=\"sk-estimator-id-2\" class=\"sk-toggleable__label sk-toggleable__label-arrow\">estimator: SVC</label><div class=\"sk-toggleable__content\"><pre>SVC()</pre></div></div></div><div class=\"sk-serial\"><div class=\"sk-item\"><div class=\"sk-estimator sk-toggleable\"><input class=\"sk-toggleable__control sk-hidden--visually\" id=\"sk-estimator-id-3\" type=\"checkbox\" ><label for=\"sk-estimator-id-3\" class=\"sk-toggleable__label sk-toggleable__label-arrow\">SVC</label><div class=\"sk-toggleable__content\"><pre>SVC()</pre></div></div></div></div></div></div></div></div></div></div>"
      ],
      "text/plain": [
       "GridSearchCV(cv=StratifiedKFold(n_splits=10, random_state=None, shuffle=True),\n",
       "             estimator=SVC(),\n",
       "             param_grid={'C': [0.01, 0.1, 1, 10],\n",
       "                         'kernel': ['linear', 'poly', 'rbf', 'sigmoid']},\n",
       "             scoring='accuracy')"
      ]
     },
     "execution_count": 14,
     "metadata": {},
     "output_type": "execute_result"
    }
   ],
   "source": [
    "from sklearn import svm\n",
    "from sklearn.model_selection import StratifiedKFold, GridSearchCV\n",
    "\n",
    "\n",
    "def evaluate_classifier(clf, X, y, scoring, parameters, n_splits=10):\n",
    "    # Create StratifiedKFold validation\n",
    "    cv = StratifiedKFold(n_splits=n_splits, shuffle=True)\n",
    "    # Grid search for the two parameters (kernel, regularization parameter (inverse of margin))\n",
    "    grid_search = GridSearchCV(clf, parameters, cv=cv, scoring='accuracy')\n",
    "    grid_search.fit(X, y)\n",
    "    # Print the best parameters and score\n",
    "    best_params = grid_search.best_params_\n",
    "    best_score = grid_search.best_score_\n",
    "    print(f\"the best parameters: {best_params}\")\n",
    "    print(f\"the best score: {best_score}\")\n",
    "    return grid_search     \n",
    "\n",
    "\n",
    "\n",
    "parameters = {'kernel': ['linear', 'poly', 'rbf', 'sigmoid'], 'C': [0.01, 0.1, 1, 10]}\n",
    "scoring = 'accuracy'\n",
    "\n",
    "# Intiate a SVM classifier\n",
    "clf = svm.SVC()\n",
    "\n",
    "\n",
    "evaluate_classifier(clf, X_rand, y, scoring, parameters)\n",
    "evaluate_classifier(clf, X_var, y, scoring, parameters)\n",
    "evaluate_classifier(clf, X_projected, y, scoring, parameters)\n",
    "\n",
    "# Is X_projected performing better than the other two?"
   ]
  },
  {
   "cell_type": "markdown",
   "id": "2e87abd1",
   "metadata": {},
   "source": [
    "### Comments:\n",
    "Yes X_projected is performing better than the other two, because PCA selects the most important features which reduces any redundancies in the data, which helps SVM Classifier perform better than the other two"
   ]
  },
  {
   "cell_type": "markdown",
   "id": "4d49ac99-7277-42f1-af89-7d10d50d8353",
   "metadata": {},
   "source": [
    "### Section 5: Logistic regression - [30 points]\n",
    "\n",
    "We explored three basic methods for feature selection. Another approach for having fewer features is regularization. In lasso regularization, as we increase the parameter (it is called 'alpha' in sklearn), more and more coefficients of our features are shrinked to zero.\n",
    "\n",
    "- Build logistic regression models using lasso regularization (L1 penalty) with varying alpha values.  \n",
    "- We'll perform cross-validation using 'cross_validate' function to measure the performance of models. We will again use StratifiedKFold with 10 splits, but remember to get the splits on the original dataframe 'X'. \n",
    "    - Set scoring to 'accuracy'.\n",
    "    - Record the mean test accuracy across CV splits for each alpha.\n",
    "    - Record the mean number of non-zero coefficients across CV splits for each alpha.\n",
    "- Repeat the above process but use ridge regression (l2 penalty) in logistic regression.\n",
    "- Plot the number of non-zero feature coefficients recorded in both lasso and ridge regression versus alpha.  \n",
    "- Plot cv accuracy recorded for both penalties versus alpha. Write two lines explaining why accuracy decreases as we increase alpha in lasso regression?\n",
    "\n",
    "--------------------------\n"
   ]
  },
  {
   "cell_type": "code",
   "execution_count": 15,
   "id": "576ff578-4796-4bb5-bac4-99206cec1dd5",
   "metadata": {},
   "outputs": [
    {
     "name": "stderr",
     "output_type": "stream",
     "text": [
      "/Users/sharanraj/anaconda3/lib/python3.11/site-packages/sklearn/linear_model/_sag.py:350: ConvergenceWarning: The max_iter was reached which means the coef_ did not converge\n",
      "  warnings.warn(\n",
      "/Users/sharanraj/anaconda3/lib/python3.11/site-packages/sklearn/linear_model/_sag.py:350: ConvergenceWarning: The max_iter was reached which means the coef_ did not converge\n",
      "  warnings.warn(\n",
      "/Users/sharanraj/anaconda3/lib/python3.11/site-packages/sklearn/linear_model/_sag.py:350: ConvergenceWarning: The max_iter was reached which means the coef_ did not converge\n",
      "  warnings.warn(\n",
      "/Users/sharanraj/anaconda3/lib/python3.11/site-packages/sklearn/linear_model/_sag.py:350: ConvergenceWarning: The max_iter was reached which means the coef_ did not converge\n",
      "  warnings.warn(\n",
      "/Users/sharanraj/anaconda3/lib/python3.11/site-packages/sklearn/linear_model/_sag.py:350: ConvergenceWarning: The max_iter was reached which means the coef_ did not converge\n",
      "  warnings.warn(\n",
      "/Users/sharanraj/anaconda3/lib/python3.11/site-packages/sklearn/linear_model/_sag.py:350: ConvergenceWarning: The max_iter was reached which means the coef_ did not converge\n",
      "  warnings.warn(\n",
      "/Users/sharanraj/anaconda3/lib/python3.11/site-packages/sklearn/linear_model/_sag.py:350: ConvergenceWarning: The max_iter was reached which means the coef_ did not converge\n",
      "  warnings.warn(\n",
      "/Users/sharanraj/anaconda3/lib/python3.11/site-packages/sklearn/linear_model/_sag.py:350: ConvergenceWarning: The max_iter was reached which means the coef_ did not converge\n",
      "  warnings.warn(\n",
      "/Users/sharanraj/anaconda3/lib/python3.11/site-packages/sklearn/linear_model/_sag.py:350: ConvergenceWarning: The max_iter was reached which means the coef_ did not converge\n",
      "  warnings.warn(\n",
      "/Users/sharanraj/anaconda3/lib/python3.11/site-packages/sklearn/linear_model/_sag.py:350: ConvergenceWarning: The max_iter was reached which means the coef_ did not converge\n",
      "  warnings.warn(\n",
      "/Users/sharanraj/anaconda3/lib/python3.11/site-packages/sklearn/linear_model/_sag.py:350: ConvergenceWarning: The max_iter was reached which means the coef_ did not converge\n",
      "  warnings.warn(\n",
      "/Users/sharanraj/anaconda3/lib/python3.11/site-packages/sklearn/linear_model/_sag.py:350: ConvergenceWarning: The max_iter was reached which means the coef_ did not converge\n",
      "  warnings.warn(\n",
      "/Users/sharanraj/anaconda3/lib/python3.11/site-packages/sklearn/linear_model/_sag.py:350: ConvergenceWarning: The max_iter was reached which means the coef_ did not converge\n",
      "  warnings.warn(\n",
      "/Users/sharanraj/anaconda3/lib/python3.11/site-packages/sklearn/linear_model/_sag.py:350: ConvergenceWarning: The max_iter was reached which means the coef_ did not converge\n",
      "  warnings.warn(\n",
      "/Users/sharanraj/anaconda3/lib/python3.11/site-packages/sklearn/linear_model/_sag.py:350: ConvergenceWarning: The max_iter was reached which means the coef_ did not converge\n",
      "  warnings.warn(\n",
      "/Users/sharanraj/anaconda3/lib/python3.11/site-packages/sklearn/linear_model/_sag.py:350: ConvergenceWarning: The max_iter was reached which means the coef_ did not converge\n",
      "  warnings.warn(\n",
      "/Users/sharanraj/anaconda3/lib/python3.11/site-packages/sklearn/linear_model/_sag.py:350: ConvergenceWarning: The max_iter was reached which means the coef_ did not converge\n",
      "  warnings.warn(\n",
      "/Users/sharanraj/anaconda3/lib/python3.11/site-packages/sklearn/linear_model/_sag.py:350: ConvergenceWarning: The max_iter was reached which means the coef_ did not converge\n",
      "  warnings.warn(\n",
      "/Users/sharanraj/anaconda3/lib/python3.11/site-packages/sklearn/linear_model/_sag.py:350: ConvergenceWarning: The max_iter was reached which means the coef_ did not converge\n",
      "  warnings.warn(\n",
      "/Users/sharanraj/anaconda3/lib/python3.11/site-packages/sklearn/linear_model/_sag.py:350: ConvergenceWarning: The max_iter was reached which means the coef_ did not converge\n",
      "  warnings.warn(\n",
      "/Users/sharanraj/anaconda3/lib/python3.11/site-packages/sklearn/linear_model/_sag.py:350: ConvergenceWarning: The max_iter was reached which means the coef_ did not converge\n",
      "  warnings.warn(\n",
      "/Users/sharanraj/anaconda3/lib/python3.11/site-packages/sklearn/linear_model/_sag.py:350: ConvergenceWarning: The max_iter was reached which means the coef_ did not converge\n",
      "  warnings.warn(\n",
      "/Users/sharanraj/anaconda3/lib/python3.11/site-packages/sklearn/linear_model/_sag.py:350: ConvergenceWarning: The max_iter was reached which means the coef_ did not converge\n",
      "  warnings.warn(\n",
      "/Users/sharanraj/anaconda3/lib/python3.11/site-packages/sklearn/linear_model/_sag.py:350: ConvergenceWarning: The max_iter was reached which means the coef_ did not converge\n",
      "  warnings.warn(\n",
      "/Users/sharanraj/anaconda3/lib/python3.11/site-packages/sklearn/linear_model/_sag.py:350: ConvergenceWarning: The max_iter was reached which means the coef_ did not converge\n",
      "  warnings.warn(\n",
      "/Users/sharanraj/anaconda3/lib/python3.11/site-packages/sklearn/linear_model/_sag.py:350: ConvergenceWarning: The max_iter was reached which means the coef_ did not converge\n",
      "  warnings.warn(\n",
      "/Users/sharanraj/anaconda3/lib/python3.11/site-packages/sklearn/linear_model/_sag.py:350: ConvergenceWarning: The max_iter was reached which means the coef_ did not converge\n",
      "  warnings.warn(\n",
      "/Users/sharanraj/anaconda3/lib/python3.11/site-packages/sklearn/linear_model/_sag.py:350: ConvergenceWarning: The max_iter was reached which means the coef_ did not converge\n",
      "  warnings.warn(\n",
      "/Users/sharanraj/anaconda3/lib/python3.11/site-packages/sklearn/linear_model/_sag.py:350: ConvergenceWarning: The max_iter was reached which means the coef_ did not converge\n",
      "  warnings.warn(\n",
      "/Users/sharanraj/anaconda3/lib/python3.11/site-packages/sklearn/linear_model/_sag.py:350: ConvergenceWarning: The max_iter was reached which means the coef_ did not converge\n",
      "  warnings.warn(\n",
      "/Users/sharanraj/anaconda3/lib/python3.11/site-packages/sklearn/linear_model/_sag.py:350: ConvergenceWarning: The max_iter was reached which means the coef_ did not converge\n",
      "  warnings.warn(\n",
      "/Users/sharanraj/anaconda3/lib/python3.11/site-packages/sklearn/linear_model/_sag.py:350: ConvergenceWarning: The max_iter was reached which means the coef_ did not converge\n",
      "  warnings.warn(\n",
      "/Users/sharanraj/anaconda3/lib/python3.11/site-packages/sklearn/linear_model/_sag.py:350: ConvergenceWarning: The max_iter was reached which means the coef_ did not converge\n",
      "  warnings.warn(\n",
      "/Users/sharanraj/anaconda3/lib/python3.11/site-packages/sklearn/linear_model/_sag.py:350: ConvergenceWarning: The max_iter was reached which means the coef_ did not converge\n",
      "  warnings.warn(\n",
      "/Users/sharanraj/anaconda3/lib/python3.11/site-packages/sklearn/linear_model/_sag.py:350: ConvergenceWarning: The max_iter was reached which means the coef_ did not converge\n",
      "  warnings.warn(\n",
      "/Users/sharanraj/anaconda3/lib/python3.11/site-packages/sklearn/linear_model/_sag.py:350: ConvergenceWarning: The max_iter was reached which means the coef_ did not converge\n",
      "  warnings.warn(\n",
      "/Users/sharanraj/anaconda3/lib/python3.11/site-packages/sklearn/linear_model/_sag.py:350: ConvergenceWarning: The max_iter was reached which means the coef_ did not converge\n",
      "  warnings.warn(\n",
      "/Users/sharanraj/anaconda3/lib/python3.11/site-packages/sklearn/linear_model/_sag.py:350: ConvergenceWarning: The max_iter was reached which means the coef_ did not converge\n",
      "  warnings.warn(\n",
      "/Users/sharanraj/anaconda3/lib/python3.11/site-packages/sklearn/linear_model/_sag.py:350: ConvergenceWarning: The max_iter was reached which means the coef_ did not converge\n",
      "  warnings.warn(\n",
      "/Users/sharanraj/anaconda3/lib/python3.11/site-packages/sklearn/linear_model/_sag.py:350: ConvergenceWarning: The max_iter was reached which means the coef_ did not converge\n",
      "  warnings.warn(\n",
      "/Users/sharanraj/anaconda3/lib/python3.11/site-packages/sklearn/linear_model/_sag.py:350: ConvergenceWarning: The max_iter was reached which means the coef_ did not converge\n",
      "  warnings.warn(\n",
      "/Users/sharanraj/anaconda3/lib/python3.11/site-packages/sklearn/linear_model/_sag.py:350: ConvergenceWarning: The max_iter was reached which means the coef_ did not converge\n",
      "  warnings.warn(\n",
      "/Users/sharanraj/anaconda3/lib/python3.11/site-packages/sklearn/linear_model/_sag.py:350: ConvergenceWarning: The max_iter was reached which means the coef_ did not converge\n",
      "  warnings.warn(\n"
     ]
    },
    {
     "name": "stderr",
     "output_type": "stream",
     "text": [
      "/Users/sharanraj/anaconda3/lib/python3.11/site-packages/sklearn/linear_model/_sag.py:350: ConvergenceWarning: The max_iter was reached which means the coef_ did not converge\n",
      "  warnings.warn(\n",
      "/Users/sharanraj/anaconda3/lib/python3.11/site-packages/sklearn/linear_model/_sag.py:350: ConvergenceWarning: The max_iter was reached which means the coef_ did not converge\n",
      "  warnings.warn(\n",
      "/Users/sharanraj/anaconda3/lib/python3.11/site-packages/sklearn/linear_model/_sag.py:350: ConvergenceWarning: The max_iter was reached which means the coef_ did not converge\n",
      "  warnings.warn(\n",
      "/Users/sharanraj/anaconda3/lib/python3.11/site-packages/sklearn/linear_model/_sag.py:350: ConvergenceWarning: The max_iter was reached which means the coef_ did not converge\n",
      "  warnings.warn(\n",
      "/Users/sharanraj/anaconda3/lib/python3.11/site-packages/sklearn/linear_model/_sag.py:350: ConvergenceWarning: The max_iter was reached which means the coef_ did not converge\n",
      "  warnings.warn(\n",
      "/Users/sharanraj/anaconda3/lib/python3.11/site-packages/sklearn/linear_model/_sag.py:350: ConvergenceWarning: The max_iter was reached which means the coef_ did not converge\n",
      "  warnings.warn(\n",
      "/Users/sharanraj/anaconda3/lib/python3.11/site-packages/sklearn/linear_model/_sag.py:350: ConvergenceWarning: The max_iter was reached which means the coef_ did not converge\n",
      "  warnings.warn(\n",
      "/Users/sharanraj/anaconda3/lib/python3.11/site-packages/sklearn/linear_model/_sag.py:350: ConvergenceWarning: The max_iter was reached which means the coef_ did not converge\n",
      "  warnings.warn(\n",
      "/Users/sharanraj/anaconda3/lib/python3.11/site-packages/sklearn/linear_model/_sag.py:350: ConvergenceWarning: The max_iter was reached which means the coef_ did not converge\n",
      "  warnings.warn(\n",
      "/Users/sharanraj/anaconda3/lib/python3.11/site-packages/sklearn/linear_model/_sag.py:350: ConvergenceWarning: The max_iter was reached which means the coef_ did not converge\n",
      "  warnings.warn(\n",
      "/Users/sharanraj/anaconda3/lib/python3.11/site-packages/sklearn/linear_model/_sag.py:350: ConvergenceWarning: The max_iter was reached which means the coef_ did not converge\n",
      "  warnings.warn(\n",
      "/Users/sharanraj/anaconda3/lib/python3.11/site-packages/sklearn/linear_model/_sag.py:350: ConvergenceWarning: The max_iter was reached which means the coef_ did not converge\n",
      "  warnings.warn(\n",
      "/Users/sharanraj/anaconda3/lib/python3.11/site-packages/sklearn/linear_model/_sag.py:350: ConvergenceWarning: The max_iter was reached which means the coef_ did not converge\n",
      "  warnings.warn(\n",
      "/Users/sharanraj/anaconda3/lib/python3.11/site-packages/sklearn/linear_model/_sag.py:350: ConvergenceWarning: The max_iter was reached which means the coef_ did not converge\n",
      "  warnings.warn(\n",
      "/Users/sharanraj/anaconda3/lib/python3.11/site-packages/sklearn/linear_model/_sag.py:350: ConvergenceWarning: The max_iter was reached which means the coef_ did not converge\n",
      "  warnings.warn(\n",
      "/Users/sharanraj/anaconda3/lib/python3.11/site-packages/sklearn/linear_model/_sag.py:350: ConvergenceWarning: The max_iter was reached which means the coef_ did not converge\n",
      "  warnings.warn(\n",
      "/Users/sharanraj/anaconda3/lib/python3.11/site-packages/sklearn/linear_model/_sag.py:350: ConvergenceWarning: The max_iter was reached which means the coef_ did not converge\n",
      "  warnings.warn(\n",
      "/Users/sharanraj/anaconda3/lib/python3.11/site-packages/sklearn/linear_model/_sag.py:350: ConvergenceWarning: The max_iter was reached which means the coef_ did not converge\n",
      "  warnings.warn(\n",
      "/Users/sharanraj/anaconda3/lib/python3.11/site-packages/sklearn/linear_model/_sag.py:350: ConvergenceWarning: The max_iter was reached which means the coef_ did not converge\n",
      "  warnings.warn(\n",
      "/Users/sharanraj/anaconda3/lib/python3.11/site-packages/sklearn/linear_model/_sag.py:350: ConvergenceWarning: The max_iter was reached which means the coef_ did not converge\n",
      "  warnings.warn(\n",
      "/Users/sharanraj/anaconda3/lib/python3.11/site-packages/sklearn/linear_model/_sag.py:350: ConvergenceWarning: The max_iter was reached which means the coef_ did not converge\n",
      "  warnings.warn(\n",
      "/Users/sharanraj/anaconda3/lib/python3.11/site-packages/sklearn/linear_model/_sag.py:350: ConvergenceWarning: The max_iter was reached which means the coef_ did not converge\n",
      "  warnings.warn(\n",
      "/Users/sharanraj/anaconda3/lib/python3.11/site-packages/sklearn/linear_model/_sag.py:350: ConvergenceWarning: The max_iter was reached which means the coef_ did not converge\n",
      "  warnings.warn(\n",
      "/Users/sharanraj/anaconda3/lib/python3.11/site-packages/sklearn/linear_model/_sag.py:350: ConvergenceWarning: The max_iter was reached which means the coef_ did not converge\n",
      "  warnings.warn(\n",
      "/Users/sharanraj/anaconda3/lib/python3.11/site-packages/sklearn/linear_model/_sag.py:350: ConvergenceWarning: The max_iter was reached which means the coef_ did not converge\n",
      "  warnings.warn(\n",
      "/Users/sharanraj/anaconda3/lib/python3.11/site-packages/sklearn/linear_model/_sag.py:350: ConvergenceWarning: The max_iter was reached which means the coef_ did not converge\n",
      "  warnings.warn(\n",
      "/Users/sharanraj/anaconda3/lib/python3.11/site-packages/sklearn/linear_model/_sag.py:350: ConvergenceWarning: The max_iter was reached which means the coef_ did not converge\n",
      "  warnings.warn(\n",
      "/Users/sharanraj/anaconda3/lib/python3.11/site-packages/sklearn/linear_model/_sag.py:350: ConvergenceWarning: The max_iter was reached which means the coef_ did not converge\n",
      "  warnings.warn(\n",
      "/Users/sharanraj/anaconda3/lib/python3.11/site-packages/sklearn/linear_model/_sag.py:350: ConvergenceWarning: The max_iter was reached which means the coef_ did not converge\n",
      "  warnings.warn(\n",
      "/Users/sharanraj/anaconda3/lib/python3.11/site-packages/sklearn/linear_model/_sag.py:350: ConvergenceWarning: The max_iter was reached which means the coef_ did not converge\n",
      "  warnings.warn(\n",
      "/Users/sharanraj/anaconda3/lib/python3.11/site-packages/sklearn/linear_model/_sag.py:350: ConvergenceWarning: The max_iter was reached which means the coef_ did not converge\n",
      "  warnings.warn(\n",
      "/Users/sharanraj/anaconda3/lib/python3.11/site-packages/sklearn/linear_model/_sag.py:350: ConvergenceWarning: The max_iter was reached which means the coef_ did not converge\n",
      "  warnings.warn(\n",
      "/Users/sharanraj/anaconda3/lib/python3.11/site-packages/sklearn/linear_model/_sag.py:350: ConvergenceWarning: The max_iter was reached which means the coef_ did not converge\n",
      "  warnings.warn(\n",
      "/Users/sharanraj/anaconda3/lib/python3.11/site-packages/sklearn/linear_model/_sag.py:350: ConvergenceWarning: The max_iter was reached which means the coef_ did not converge\n",
      "  warnings.warn(\n",
      "/Users/sharanraj/anaconda3/lib/python3.11/site-packages/sklearn/linear_model/_sag.py:350: ConvergenceWarning: The max_iter was reached which means the coef_ did not converge\n",
      "  warnings.warn(\n",
      "/Users/sharanraj/anaconda3/lib/python3.11/site-packages/sklearn/linear_model/_sag.py:350: ConvergenceWarning: The max_iter was reached which means the coef_ did not converge\n",
      "  warnings.warn(\n",
      "/Users/sharanraj/anaconda3/lib/python3.11/site-packages/sklearn/linear_model/_sag.py:350: ConvergenceWarning: The max_iter was reached which means the coef_ did not converge\n",
      "  warnings.warn(\n",
      "/Users/sharanraj/anaconda3/lib/python3.11/site-packages/sklearn/linear_model/_sag.py:350: ConvergenceWarning: The max_iter was reached which means the coef_ did not converge\n",
      "  warnings.warn(\n"
     ]
    }
   ],
   "source": [
    "from sklearn.model_selection import cross_validate\n",
    "from sklearn.linear_model import LogisticRegression\n",
    "\n",
    "alphas = np.array([0.1, 1, 10, 100, 1000])\n",
    "# alphas = np.array([0.1])\n",
    "lasso_cv_acc = []\n",
    "lasso_non_zero_coeff = []\n",
    "ridge_non_zero_coeff = []\n",
    "ridge_cv_acc = []\n",
    "\n",
    "# Create StratifiedKFold validation of 10 splits on 'X'\n",
    "cv = StratifiedKFold(n_splits=10, shuffle=True)\n",
    "\n",
    "for a in alphas:\n",
    "    # Instantiate a logistic regression object. Use 'saga' solver and 'l1' penalty. \n",
    "    clf = LogisticRegression(penalty='l1', solver=\"saga\", C=(1/a))\n",
    "    # Read on how parameter'C' and 'alpha' are related in logistic regression\n",
    "    # Perform cross validation as described above.\n",
    "    cv_result = cross_validate(clf,X,y,scoring=['accuracy'],cv=cv,return_estimator=True)\n",
    "    # Record mean of test_score of all 10 models.\n",
    "    acc = np.mean(np.array(cv_result['test_accuracy']))\n",
    "    lasso_cv_acc.append(acc)\n",
    "    # Record mean of number of non zero coeefeicitens of all 10 models\n",
    "    non_zero=0\n",
    "    \n",
    "    for est in cv_result['estimator']:\n",
    "        n = np.sum(est.coef_ != 0)\n",
    "        non_zero += n\n",
    "    non_zero/=10\n",
    "    lasso_non_zero_coeff.append(non_zero)\n",
    "\n",
    "\n",
    "for a in alphas:\n",
    "    # Instantiate a logistic regression object. Use 'saga' solver and 'l1' penalty. \n",
    "    clf = LogisticRegression(penalty='l2', solver=\"saga\", C=(1/a))\n",
    "    # Read on how parameter'C' and 'alpha' are related in logistic regression\n",
    "    # Perform cross validation as described above.\n",
    "    cv_result = cross_validate(clf,X,y,scoring=['accuracy'],cv=cv,return_estimator=True)\n",
    "    # Record mean of test_score of all 10 models.\n",
    "    acc = np.mean(np.array(cv_result['test_accuracy']))\n",
    "    ridge_cv_acc.append(acc)\n",
    "    # Record mean of number of non zero coeefeicitens of all 10 models\n",
    "    non_zero=0\n",
    "    \n",
    "    for est in cv_result['estimator']:\n",
    "        n = np.sum(est.coef_ != 0)\n",
    "        non_zero += n\n",
    "    non_zero/=10\n",
    "    ridge_non_zero_coeff.append(non_zero)\n",
    "    \n",
    "\n",
    "\n"
   ]
  },
  {
   "cell_type": "code",
   "execution_count": 16,
   "id": "178e4aec-4754-4e6f-957a-0cd31b75f60e",
   "metadata": {},
   "outputs": [
    {
     "data": {
      "image/png": "[encoded data removed]",
      "text/plain": [
       "<Figure size 640x480 with 1 Axes>"
      ]
     },
     "metadata": {},
     "output_type": "display_data"
    }
   ],
   "source": [
    "# Plot log of alpha vs number of non zero features. \n",
    "\n",
    "import matplotlib.pyplot as plt\n",
    "\n",
    "\n",
    "plt.xlabel('Log alpha')\n",
    "plt.ylabel('Number of non-zero features')\n",
    "plt.plot(np.log(alphas), lasso_non_zero_coeff, label='Lasso')\n",
    "plt.plot(np.log(alphas), ridge_non_zero_coeff, label='Ridge')\n",
    "plt.legend(loc=\"lower left\")\n",
    "plt.show()\n"
   ]
  },
  {
   "cell_type": "code",
   "execution_count": 17,
   "id": "1ac75a83-9c83-4c5f-8906-cb6eb979b10b",
   "metadata": {},
   "outputs": [
    {
     "data": {
      "image/png": "[encoded data removed]",
      "text/plain": [
       "<Figure size 640x480 with 1 Axes>"
      ]
     },
     "metadata": {},
     "output_type": "display_data"
    }
   ],
   "source": [
    "# Plot log of alpha vs mean CV test accuracy. \n",
    "\n",
    "plt.xlabel('Log alpha')\n",
    "plt.ylabel('CV test accuracy')\n",
    "plt.plot(np.log(alphas), lasso_cv_acc, label='Lasso')\n",
    "plt.plot(np.log(alphas), ridge_cv_acc, label='Ridge')\n",
    "plt.legend(loc=\"lower left\")\n",
    "plt.show()\n",
    "\n",
    "# Write two lines below on why accuracy is decreasing in lasso?"
   ]
  },
  {
   "cell_type": "markdown",
   "id": "b0fe8b2d",
   "metadata": {},
   "source": [
    "### Comments:\n",
    "\n",
    "Lasso generally gives sparse solution, what we mean by that is that it makes Coefficients of certain features zero but in Ridge the coefficients are close to zero but not exactly zero. Since in Lasso most coefficients are zero it is not able to represent the data properly beacuse many features don't contribute to the model, hence ridge regression does a good job as compared to lasso in predicting the data "
   ]
  },
  {
   "cell_type": "markdown",
   "id": "6bba4b84-ad92-4e7a-88d1-2ded77dc9737",
   "metadata": {},
   "source": [
    "### Section 6: Random forest  - [25 points]\n",
    " \n",
    "In this section, we will implement a random forest algorithm on X_projected (i.e., the data reduced using PCA). We will vary the number of trees and features considered when splitting nodes. \n",
    "\n",
    "-  Build random forest models with varying tree counts and features to consider when looking for the split.\n",
    "-  Perform similar cross-validate with stratified folds, as in Section 5..\n",
    "-  Record accuracies obtained for the test set for each hyperparameter combination.\n",
    "-  Plot test accuracy vs tree count for each #features (m, m//2, sqrt(m)) we are using.\n",
    "-  Repeat the above using just the first 25 components of X_projected.\n",
    "--------------------------\n"
   ]
  },
  {
   "cell_type": "code",
   "execution_count": 21,
   "id": "919872d7-ceec-4377-bb3b-03c9f73e8de7",
   "metadata": {},
   "outputs": [],
   "source": [
    "from sklearn.ensemble import RandomForestClassifier\n",
    "\n",
    "X_rf = X_projected\n",
    "\n",
    "num_trees = [1, 50, 100, 200, 300, 500, 1000]\n",
    "# m =  X_rf.shape[1] \n",
    "m=25\n",
    "max_features = [ m, m//2, 'sqrt']\n",
    "test_accs = []\n",
    "\n",
    "# Create StratifiedKFold validation\n",
    "cv = StratifiedKFold(n_splits=10, shuffle=True)\n",
    "\n",
    "for features in max_features:\n",
    "    temp=[]\n",
    "    for tree in num_trees:\n",
    "        # Instantiate a random forest object. Set max_depth=5. \n",
    "        clf = RandomForestClassifier(n_estimators=tree, max_depth=5,max_features=features)\n",
    "        # Perform cross validation\n",
    "        cv_result = cross_validate(clf,X_rf,y,scoring=['accuracy'],cv=cv,return_estimator=True)\n",
    "        # Record the mean of CV test scores \n",
    "        acc = np.mean(np.array(cv_result['test_accuracy']))\n",
    "        temp.append(acc)\n",
    "    test_accs.append(temp)\n",
    "        "
   ]
  },
  {
   "cell_type": "code",
   "execution_count": 19,
   "id": "b2579cd1-25c3-4182-8d9a-3b4017aff834",
   "metadata": {},
   "outputs": [
    {
     "data": {
      "image/png": "[encoded data removed]",
      "text/plain": [
       "<Figure size 640x480 with 1 Axes>"
      ]
     },
     "metadata": {},
     "output_type": "display_data"
    }
   ],
   "source": [
    "# Plot CV test accuracy vs number of trees \n",
    "\n",
    "plt.xlabel('Number of Trees')\n",
    "plt.ylabel('CV test accuracy')\n",
    "for i, max_feat in enumerate(max_features):\n",
    "    plt.plot(num_trees, test_accs[i] , label=\"max_features = \"+str(max_feat))\n",
    "plt.legend(loc=\"lower right\")\n",
    "\n",
    "plt.show()\n"
   ]
  },
  {
   "cell_type": "code",
   "execution_count": 22,
   "id": "6ee7a695",
   "metadata": {},
   "outputs": [
    {
     "data": {
      "image/png": "[encoded data removed]",
      "text/plain": [
       "<Figure size 640x480 with 1 Axes>"
      ]
     },
     "metadata": {},
     "output_type": "display_data"
    }
   ],
   "source": [
    "# Plot CV test accuracy vs number of trees \n",
    "\n",
    "plt.xlabel('Number of Trees')\n",
    "plt.ylabel('CV test accuracy')\n",
    "for i, max_feat in enumerate(max_features):\n",
    "    plt.plot(num_trees, test_accs[i] , label=\"max_features = \"+str(max_feat))\n",
    "plt.legend(loc=\"lower right\")\n",
    "\n",
    "plt.show()"
   ]
  },
  {
   "cell_type": "markdown",
   "id": "e7b17351-894f-47d7-8836-f10b342b0dc8",
   "metadata": {},
   "source": [
    "#### Section 6.1: What are your observations in the plot above?"
   ]
  },
  {
   "cell_type": "markdown",
   "id": "a41823ea-88e5-4275-86bd-601ba697a9c3",
   "metadata": {},
   "source": [
    "\n",
    "##### m = 140:\n",
    "\n",
    "For m=140 we can see to get a decent accuracy it requires atleast a 100-150 trees. The highest cross-validation test accuracy is most often attained by max_features = 70 and max_features = 140\n",
    "\n",
    "##### m = 25:\n",
    "\n",
    "For m=25 for aa decent accuracy it takes atleast 200 trees and the highest cross-validation test accuracy is most often attained by max_features = 25\n",
    "\n",
    "\n",
    "The test dataset varies with different k-fold splits, leading to variations in accuracy levels for all three scenarios shown in the plots for each excecution"
   ]
  },
  {
   "cell_type": "markdown",
   "id": "20abc123",
   "metadata": {},
   "source": [
    "## Using Deep learning"
   ]
  },
  {
   "cell_type": "code",
   "execution_count": 21,
   "id": "e101cb14",
   "metadata": {},
   "outputs": [],
   "source": [
    "import torch\n",
    "import torch.nn as nn\n",
    "import torch.nn as nn\n",
    "import torch.optim as optim\n",
    "from tqdm import tqdm\n",
    "from sklearn.metrics import accuracy_score\n",
    "import matplotlib.pyplot as plt"
   ]
  },
  {
   "cell_type": "code",
   "execution_count": 32,
   "id": "efc5711b",
   "metadata": {},
   "outputs": [],
   "source": [
    "# Model Definition\n",
    "class Classification(nn.Module):\n",
    "    def __init__(self, in_channels):\n",
    "        super(Classification, self).__init__()\n",
    "\n",
    "        self.classifier = nn.Sequential(\n",
    "        nn.Linear(in_channels, in_channels*2),\n",
    "        nn.LeakyReLU(0.1),\n",
    "        nn.Linear(in_channels*2, in_channels*4),\n",
    "        nn.LeakyReLU(0.1),\n",
    "        nn.Linear(in_channels*4, in_channels*6),\n",
    "        nn.LeakyReLU(0.2),\n",
    "        nn.Linear(in_channels*6, in_channels*4),\n",
    "        nn.LeakyReLU(0.1),\n",
    "        nn.Linear(in_channels*4, in_channels*2),\n",
    "        nn.LeakyReLU(0.1),\n",
    "        nn.Linear(in_channels*2, in_channels),\n",
    "        nn.LeakyReLU(0.1),\n",
    "        nn.Linear(in_channels, 1),\n",
    "        nn.Sigmoid()\n",
    "        )\n",
    "\n",
    "    def forward(self,x):\n",
    "        return self.classifier(x)"
   ]
  },
  {
   "cell_type": "code",
   "execution_count": 33,
   "id": "454eb3c6",
   "metadata": {},
   "outputs": [],
   "source": [
    "X_proj = torch.tensor(X_projected,dtype=torch.float32)\n",
    "y_tens = torch.tensor(y,dtype=torch.float32).reshape((y.shape[0],1))"
   ]
  },
  {
   "cell_type": "code",
   "execution_count": 34,
   "id": "f2dab4d7",
   "metadata": {},
   "outputs": [],
   "source": [
    "from sklearn.model_selection import train_test_split\n",
    "\n",
    "x_train, X_temp, y_train, y_temp = train_test_split(X_proj, y_tens, test_size=0.2, random_state=42)\n",
    "x_test, x_val, y_test, y_val = train_test_split(X_temp, y_temp, test_size=0.5, random_state=42)"
   ]
  },
  {
   "cell_type": "code",
   "execution_count": 35,
   "id": "e5014462",
   "metadata": {},
   "outputs": [
    {
     "data": {
      "text/plain": [
       "torch.Size([17, 1])"
      ]
     },
     "execution_count": 35,
     "metadata": {},
     "output_type": "execute_result"
    }
   ],
   "source": [
    "y_val.shape"
   ]
  },
  {
   "cell_type": "code",
   "execution_count": 36,
   "id": "4bdd2c07",
   "metadata": {},
   "outputs": [],
   "source": [
    "step_size = 1e-4\n",
    "Model = Classification(in_channels=X_projected.shape[1])\n",
    "criterion = nn.BCELoss()\n",
    "optimizer = optim.Adam(Model.parameters(), lr=step_size)"
   ]
  },
  {
   "cell_type": "code",
   "execution_count": 37,
   "id": "6e444c23",
   "metadata": {},
   "outputs": [
    {
     "name": "stdout",
     "output_type": "stream",
     "text": [
      "Epoch 10: Validation Accuracy: 64.7059%\n",
      "Epoch 20: Validation Accuracy: 88.2353%\n",
      "Epoch 30: Validation Accuracy: 88.2353%\n",
      "Epoch 40: Validation Accuracy: 88.2353%\n",
      "Epoch 50: Validation Accuracy: 88.2353%\n",
      "Epoch 60: Validation Accuracy: 88.2353%\n",
      "Epoch 70: Validation Accuracy: 88.2353%\n",
      "Epoch 80: Validation Accuracy: 88.2353%\n",
      "Epoch 90: Validation Accuracy: 88.2353%\n",
      "Epoch 100: Validation Accuracy: 88.2353%\n",
      "Epoch 110: Validation Accuracy: 88.2353%\n",
      "Epoch 120: Validation Accuracy: 88.2353%\n",
      "Epoch 130: Validation Accuracy: 88.2353%\n",
      "Epoch 140: Validation Accuracy: 88.2353%\n",
      "Epoch 150: Validation Accuracy: 88.2353%\n",
      "Epoch 160: Validation Accuracy: 88.2353%\n",
      "Epoch 170: Validation Accuracy: 88.2353%\n",
      "Epoch 180: Validation Accuracy: 88.2353%\n",
      "Epoch 190: Validation Accuracy: 88.2353%\n",
      "Epoch 200: Validation Accuracy: 88.2353%\n"
     ]
    }
   ],
   "source": [
    "loss_curve = []\n",
    "accuracy_curve = []\n",
    "\n",
    "num_epochs= 200\n",
    "for epoch in range(num_epochs):\n",
    "    Model.train()\n",
    "    y_pred = Model(x_train)\n",
    "    loss = criterion(y_pred, y_train)\n",
    "\n",
    "    optimizer.zero_grad()\n",
    "    loss.backward()\n",
    "    optimizer.step()\n",
    "\n",
    "    # validation\n",
    "    Model.eval()\n",
    "    with torch.no_grad():\n",
    "      y_pred_valid = Model(x_val)\n",
    "      loss_val = criterion(y_pred_valid, y_val)\n",
    "      pred_val = (y_pred_valid > 0.5).float()\n",
    "      acc_val= accuracy_score(y_val.numpy(), pred_val.numpy())\n",
    "\n",
    "    loss_curve.append(loss.item())\n",
    "    accuracy_curve.append(acc_val)\n",
    "    if (epoch + 1) % 10 == 0:\n",
    "      print(f'Epoch {epoch+1}: Validation Accuracy: {(acc_val*100):.4f}%')"
   ]
  },
  {
   "cell_type": "code",
   "execution_count": 38,
   "id": "b6832f20",
   "metadata": {},
   "outputs": [
    {
     "data": {
      "image/png": "[encoded data removed]",
      "text/plain": [
       "<Figure size 1500x400 with 2 Axes>"
      ]
     },
     "metadata": {},
     "output_type": "display_data"
    }
   ],
   "source": [
    "plt.figure(figsize=(15, 4))\n",
    "plt.subplot(1, 2, 1)\n",
    "plt.plot(loss_curve)\n",
    "plt.title(\"Train Loss curve\")\n",
    "plt.xlabel('Epochs')\n",
    "plt.ylabel('Loss')\n",
    "\n",
    "plt.subplot(1, 2, 2)\n",
    "plt.plot(accuracy_curve)\n",
    "plt.title(\"Validation Accuracy curve\")\n",
    "plt.xlabel('Epochs')\n",
    "plt.ylabel('Accuracy')\n",
    "\n",
    "plt.show()"
   ]
  },
  {
   "cell_type": "code",
   "execution_count": 22,
   "id": "f383302f",
   "metadata": {},
   "outputs": [
    {
     "name": "stdout",
     "output_type": "stream",
     "text": [
      "\n",
      " Test Accuracy of the Classification Model Classification(\n",
      "  (classifier): Sequential(\n",
      "    (0): Linear(in_features=140, out_features=280, bias=True)\n",
      "    (1): ReLU()\n",
      "    (2): Linear(in_features=280, out_features=560, bias=True)\n",
      "    (3): ReLU()\n",
      "    (4): Linear(in_features=560, out_features=280, bias=True)\n",
      "    (5): ReLU()\n",
      "    (6): Linear(in_features=280, out_features=140, bias=True)\n",
      "    (7): ReLU()\n",
      "    (8): Linear(in_features=140, out_features=1, bias=True)\n",
      "    (9): Sigmoid()\n",
      "  )\n",
      ") is : 87.50%\n"
     ]
    }
   ],
   "source": [
    "Model.eval()\n",
    "with torch.no_grad():\n",
    "  pred = Model(x_test)\n",
    "  test_preds = (pred > 0.5).float()\n",
    "  accuracy = accuracy_score(y_test.numpy(), test_preds.numpy())*100\n",
    "\n",
    "print(f'\\n Test Accuracy of the Classification Model {Model} is : {accuracy:.2f}%')"
   ]
  },
  {
   "cell_type": "code",
   "execution_count": 31,
   "id": "062ab868",
   "metadata": {},
   "outputs": [
    {
     "name": "stdout",
     "output_type": "stream",
     "text": [
      "\n",
      " Test Accuracy of the Classification Model Classification(\n",
      "  (classifier): Sequential(\n",
      "    (0): Linear(in_features=140, out_features=280, bias=True)\n",
      "    (1): LeakyReLU(negative_slope=0.1)\n",
      "    (2): Linear(in_features=280, out_features=560, bias=True)\n",
      "    (3): LeakyReLU(negative_slope=0.2)\n",
      "    (4): Linear(in_features=560, out_features=280, bias=True)\n",
      "    (5): LeakyReLU(negative_slope=0.1)\n",
      "    (6): Linear(in_features=280, out_features=140, bias=True)\n",
      "    (7): LeakyReLU(negative_slope=0.1)\n",
      "    (8): Linear(in_features=140, out_features=1, bias=True)\n",
      "    (9): Sigmoid()\n",
      "  )\n",
      ") is : 93.75%\n"
     ]
    }
   ],
   "source": [
    "Model.eval()\n",
    "with torch.no_grad():\n",
    "  pred = Model(x_test)\n",
    "  test_preds = (pred > 0.5).float()\n",
    "  accuracy = accuracy_score(y_test.numpy(), test_preds.numpy())*100\n",
    "\n",
    "print(f'\\n Test Accuracy of the Classification Model {Model} is : {accuracy:.2f}%')"
   ]
  },
  {
   "cell_type": "markdown",
   "id": "2da364d2",
   "metadata": {},
   "source": [
    "for the given data leaky ReLU activation has a better performnce than ReLU, it might be beacuse of the effect of the Negative values in the Genomics data was overwritten in ReLU"
   ]
  },
  {
   "cell_type": "code",
   "execution_count": 39,
   "id": "892e7c4c",
   "metadata": {},
   "outputs": [
    {
     "name": "stdout",
     "output_type": "stream",
     "text": [
      "\n",
      " Test Accuracy of the Classification Model Classification(\n",
      "  (classifier): Sequential(\n",
      "    (0): Linear(in_features=140, out_features=280, bias=True)\n",
      "    (1): LeakyReLU(negative_slope=0.1)\n",
      "    (2): Linear(in_features=280, out_features=560, bias=True)\n",
      "    (3): LeakyReLU(negative_slope=0.1)\n",
      "    (4): Linear(in_features=560, out_features=840, bias=True)\n",
      "    (5): LeakyReLU(negative_slope=0.2)\n",
      "    (6): Linear(in_features=840, out_features=560, bias=True)\n",
      "    (7): LeakyReLU(negative_slope=0.1)\n",
      "    (8): Linear(in_features=560, out_features=280, bias=True)\n",
      "    (9): LeakyReLU(negative_slope=0.1)\n",
      "    (10): Linear(in_features=280, out_features=140, bias=True)\n",
      "    (11): LeakyReLU(negative_slope=0.1)\n",
      "    (12): Linear(in_features=140, out_features=1, bias=True)\n",
      "    (13): Sigmoid()\n",
      "  )\n",
      ") is : 81.25%\n"
     ]
    }
   ],
   "source": [
    "Model.eval()\n",
    "with torch.no_grad():\n",
    "  pred = Model(x_test)\n",
    "  test_preds = (pred > 0.5).float()\n",
    "  accuracy = accuracy_score(y_test.numpy(), test_preds.numpy())*100\n",
    "\n",
    "print(f'\\n Test Accuracy of the Classification Model {Model} is : {accuracy:.2f}%')"
   ]
  },
  {
   "cell_type": "markdown",
   "id": "c94bb49a",
   "metadata": {},
   "source": [
    "Deeper model performs worse than a shallow network this might be due to the less data availabilty"
   ]
  }
 ],
 "metadata": {
  "kernelspec": {
   "display_name": "Python 3 (ipykernel)",
   "language": "python",
   "name": "python3"
  },
  "language_info": {
   "codemirror_mode": {
    "name": "ipython",
    "version": 3
   },
   "file_extension": ".py",
   "mimetype": "text/x-python",
   "name": "python",
   "nbconvert_exporter": "python",
   "pygments_lexer": "ipython3",
   "version": "3.11.5"
  }
 },
 "nbformat": 4,
 "nbformat_minor": 5
}
